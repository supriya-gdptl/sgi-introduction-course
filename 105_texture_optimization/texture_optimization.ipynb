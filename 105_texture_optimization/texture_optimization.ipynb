{
  "nbformat": 4,
  "nbformat_minor": 0,
  "metadata": {
    "colab": {
      "provenance": [],
      "gpuType": "T4"
    },
    "kernelspec": {
      "name": "python3",
      "display_name": "Python 3"
    },
    "language_info": {
      "name": "python"
    },
    "accelerator": "GPU"
  },
  "cells": [
    {
      "cell_type": "code",
      "execution_count": null,
      "metadata": {
        "id": "cF7mXMHHrIze"
      },
      "outputs": [],
      "source": [
        "# Install the required packages\n",
        "!pip install numpy==1.26.4\n",
        "!pip install torch==2.1.1 torchvision==0.16.1 torchaudio==2.1.1 --index-url https://download.pytorch.org/whl/cu121\n",
        "!pip install kaolin==0.15.0 -f https://nvidia-kaolin.s3.us-east-2.amazonaws.com/torch-2.1.1_cu121.html\n",
        "!pip install xatlas==0.0.7\n",
        "!pip install matplotlib==3.9.1"
      ]
    },
    {
      "cell_type": "code",
      "source": [
        "from google.colab import drive\n",
        "drive.mount('/content/drive', force_remount=True)"
      ],
      "metadata": {
        "id": "UztkyGeANuOk"
      },
      "execution_count": null,
      "outputs": []
    },
    {
      "cell_type": "code",
      "source": [
        "!pwd\n",
        "import sys\n",
        "sys.path.append('/content/drive/MyDrive/105_texture_optimization')\n",
        "import torch\n",
        "import torchvision\n",
        "import random\n",
        "import os\n",
        "import numpy as np\n",
        "from src.render import Renderer\n",
        "from src.mesh import Mesh, compute_uv_map\n",
        "from src.get_target_renders import get_target_renders\n",
        "from src.utils import get_texels, load_texture_image\n",
        "from src.optimize_texture import optimize_texture\n",
        "from solution.inverse_map import inverse_map"
      ],
      "metadata": {
        "id": "Gurl74c-Mowm"
      },
      "execution_count": null,
      "outputs": []
    },
    {
      "cell_type": "code",
      "source": [
        "# Set up some global variables\n",
        "RENDER_SIZE = 256 # Dimentions of the output rendered image\n",
        "DEVICE = \"cuda\" # Either \"cuda\" or \"cpu\"; determines whether the code runs on GPU or CPU\n",
        "MESH_PATH = \"/content/drive/My Drive/105_texture_optimization/data/spot.obj\" # Path to the mesh file\n",
        "TEXTURE_IMAGE_PATH = \"/content/drive/My Drive/105_texture_optimization/data/spot_texture.png\" # The target texture image path\n",
        "# (can be either \"data/uv_grid.png\" or \"data/spot_texture.png\")\n",
        "RENDERS_PATH = \"rendered_images.png\" # Path of the output rendered images\n",
        "SEED = 42\n",
        "OPTIM_ITERATIONS = 1000\n",
        "TEXTURE_IMAGE_SIZE = 256\n",
        "NUM_RENDERS = 3\n",
        "TARGET_UVS = \"load\" # Either \"load\" or None\n",
        "VIZ_UVS = True\n",
        "TOLERANCE = 0.5 # How strict to be about texels lying inside triangles. Lower is more\n",
        "# strict and will make the optimization faster, but might introduce seam artifacts due\n",
        "# to anti-aliasing. The correct way to handle this would be to include anti-aliasing in\n",
        "# our inverse_mapping() function, but this is beyond the scope of this tutorial.\n",
        "# Recommended values: 1e-6 for cube.obj, 0.5 for spot.obj\n",
        "\n",
        "# Set seed for reproducibility\n",
        "random.seed(SEED)\n",
        "os.environ['PYTHONHASHSEED'] = str(SEED)\n",
        "np.random.seed(SEED)\n",
        "torch.manual_seed(SEED)\n",
        "torch.cuda.manual_seed(SEED)"
      ],
      "metadata": {
        "id": "P5xObUldQZdW"
      },
      "execution_count": 5,
      "outputs": []
    },
    {
      "cell_type": "code",
      "source": [
        "# Setup\n",
        "# Initialize renderer\n",
        "renderer = Renderer(\n",
        "    DEVICE,\n",
        "    dim=(RENDER_SIZE, RENDER_SIZE)\n",
        ")\n",
        "\n",
        "# Load in mesh\n",
        "mesh = Mesh(MESH_PATH, device=DEVICE)\n",
        "\n",
        "# Initialize a texture image\n",
        "texture_image = torch.ones(1, 3, TEXTURE_IMAGE_SIZE, TEXTURE_IMAGE_SIZE).to(DEVICE)\n",
        "\n",
        "# Compute a UV parameterization for our optimization\n",
        "uvs, vt, ft = compute_uv_map(mesh)\n",
        "uvs = uvs[0]\n",
        "\n",
        "# Target setup\n",
        "# Load the target texture image\n",
        "target_texture_image = load_texture_image(TEXTURE_IMAGE_PATH, renderer.device)\n",
        "\n",
        "# UV parameterization for the target images\n",
        "# If no UVs are provided, we can use the same ones we computed for our optimization\n",
        "if TARGET_UVS == \"load\":\n",
        "    from src.utils import load_uvs\n",
        "    print(MESH_PATH, \"MESH_PATH\")\n",
        "    target_uvs, _ = load_uvs(MESH_PATH)\n",
        "    target_uvs = target_uvs.to(DEVICE)\n",
        "else:\n",
        "    target_uvs = uvs\n",
        "\n",
        "# Optionally, we can visualze the UV parameterization like we did in module 104\n",
        "if VIZ_UVS:\n",
        "    from src.utils import plot_uvs\n",
        "    from PIL import Image\n",
        "    test_texture_image = Image.open(\"/content/drive/My Drive/105_texture_optimization/data/uv_grid.png\")\n",
        "    # normalize the texture map values to be between 0 and 1\n",
        "    test_texture_image = np.asarray(test_texture_image)[:, :, :3] / 255\n",
        "    plot_uvs(\"test_plot_uvs.png\", vt.cpu().numpy(), ft.cpu().numpy(), test_texture_image, \"UVs\")\n",
        "\n",
        "# Visualize the target renders\n",
        "target_renders = get_target_renders(\n",
        "    mesh,\n",
        "    renderer,\n",
        "    target_texture_image,\n",
        "    azim=torch.deg2rad(torch.tensor([-90, 0, 90], device=DEVICE)),\n",
        "    elev=torch.deg2rad(torch.tensor([30, 30, 30], device=DEVICE)),\n",
        "    radius=torch.tensor([2], device=DEVICE),\n",
        "    uvs=target_uvs\n",
        ")\n",
        "torchvision.utils.save_image(target_renders, \"target_renders.png\")\n",
        "\n",
        "# Get the surface points and texel indices\n",
        "texels = get_texels(TEXTURE_IMAGE_SIZE, device=DEVICE)\n",
        "surface_points, texel_indices = inverse_map(\n",
        "    mesh.vertices,\n",
        "    mesh.faces,\n",
        "    uvs,\n",
        "    texels,\n",
        "    tolerance=TOLERANCE\n",
        ")\n",
        "\n",
        "# Optimize the texture map\n",
        "mlp, texture_image = optimize_texture(\n",
        "    mesh,\n",
        "    surface_points,\n",
        "    texel_indices,\n",
        "    uvs,\n",
        "    texture_image,\n",
        "    renderer,\n",
        "    num_renders=NUM_RENDERS,\n",
        "    iterations=OPTIM_ITERATIONS,\n",
        "    lr=1e-4,\n",
        "    device=DEVICE,\n",
        "    target_texture=target_texture_image,\n",
        "    target_uvs=target_uvs\n",
        ")\n",
        "\n",
        "# Save the final texture image\n",
        "torchvision.utils.save_image(texture_image, \"final_texture.png\")\n",
        "\n",
        "# Render and save the final textured mesh\n",
        "final_renders = renderer.render_texture(\n",
        "    mesh.vertices,\n",
        "    mesh.faces,\n",
        "    uvs,\n",
        "    texture_image,\n",
        "    azim=torch.deg2rad(torch.tensor([-90, 0, 90], device=DEVICE)),\n",
        "    elev=torch.deg2rad(torch.tensor([30, 30, 30], device=DEVICE)),\n",
        "    radius=torch.tensor([2], device=DEVICE)\n",
        ")\n",
        "torchvision.utils.save_image(final_renders, \"final_mesh_renders.png\")"
      ],
      "metadata": {
        "id": "0NjQ0UScMsm4"
      },
      "execution_count": null,
      "outputs": []
    }
  ]
}